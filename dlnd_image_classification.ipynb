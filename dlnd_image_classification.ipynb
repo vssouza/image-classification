{
 "cells": [
  {
   "cell_type": "markdown",
   "metadata": {
    "collapsed": true
   },
   "source": [
    "# Image Classification\n",
    "In this project, you'll classify images from the [CIFAR-10 dataset](https://www.cs.toronto.edu/~kriz/cifar.html).  The dataset consists of airplanes, dogs, cats, and other objects. You'll preprocess the images, then train a convolutional neural network on all the samples. The images need to be normalized and the labels need to be one-hot encoded.  You'll get to apply what you learned and build a convolutional, max pooling, dropout, and fully connected layers.  At the end, you'll get to see your neural network's predictions on the sample images.\n",
    "## Get the Data\n",
    "Run the following cell to download the [CIFAR-10 dataset for python](https://www.cs.toronto.edu/~kriz/cifar-10-python.tar.gz)."
   ]
  },
  {
   "cell_type": "code",
   "execution_count": 1,
   "metadata": {},
   "outputs": [
    {
     "name": "stdout",
     "output_type": "stream",
     "text": [
      "All files found!\n"
     ]
    }
   ],
   "source": [
    "\"\"\"\n",
    "DON'T MODIFY ANYTHING IN THIS CELL THAT IS BELOW THIS LINE\n",
    "\"\"\"\n",
    "from urllib.request import urlretrieve\n",
    "from os.path import isfile, isdir\n",
    "from tqdm import tqdm\n",
    "import problem_unittests as tests\n",
    "import tarfile\n",
    "\n",
    "cifar10_dataset_folder_path = 'cifar-10-batches-py'\n",
    "\n",
    "# Use Floyd's cifar-10 dataset if present\n",
    "floyd_cifar10_location = '/input/cifar-10/python.tar.gz'\n",
    "if isfile(floyd_cifar10_location):\n",
    "    tar_gz_path = floyd_cifar10_location\n",
    "else:\n",
    "    tar_gz_path = 'cifar-10-python.tar.gz'\n",
    "\n",
    "class DLProgress(tqdm):\n",
    "    last_block = 0\n",
    "\n",
    "    def hook(self, block_num=1, block_size=1, total_size=None):\n",
    "        self.total = total_size\n",
    "        self.update((block_num - self.last_block) * block_size)\n",
    "        self.last_block = block_num\n",
    "\n",
    "if not isfile(tar_gz_path):\n",
    "    with DLProgress(unit='B', unit_scale=True, miniters=1, desc='CIFAR-10 Dataset') as pbar:\n",
    "        urlretrieve(\n",
    "            'https://www.cs.toronto.edu/~kriz/cifar-10-python.tar.gz',\n",
    "            tar_gz_path,\n",
    "            pbar.hook)\n",
    "\n",
    "if not isdir(cifar10_dataset_folder_path):\n",
    "    with tarfile.open(tar_gz_path) as tar:\n",
    "        tar.extractall()\n",
    "        tar.close()\n",
    "\n",
    "\n",
    "tests.test_folder_path(cifar10_dataset_folder_path)"
   ]
  },
  {
   "cell_type": "markdown",
   "metadata": {},
   "source": [
    "## Explore the Data\n",
    "The dataset is broken into batches to prevent your machine from running out of memory.  The CIFAR-10 dataset consists of 5 batches, named `data_batch_1`, `data_batch_2`, etc.. Each batch contains the labels and images that are one of the following:\n",
    "* airplane\n",
    "* automobile\n",
    "* bird\n",
    "* cat\n",
    "* deer\n",
    "* dog\n",
    "* frog\n",
    "* horse\n",
    "* ship\n",
    "* truck\n",
    "\n",
    "Understanding a dataset is part of making predictions on the data.  Play around with the code cell below by changing the `batch_id` and `sample_id`. The `batch_id` is the id for a batch (1-5). The `sample_id` is the id for a image and label pair in the batch.\n",
    "\n",
    "Ask yourself \"What are all possible labels?\", \"What is the range of values for the image data?\", \"Are the labels in order or random?\".  Answers to questions like these will help you preprocess the data and end up with better predictions."
   ]
  },
  {
   "cell_type": "code",
   "execution_count": 3,
   "metadata": {},
   "outputs": [
    {
     "name": "stdout",
     "output_type": "stream",
     "text": [
      "\n",
      "Stats of batch 1:\n",
      "Samples: 10000\n",
      "Label Counts: {0: 1005, 1: 974, 2: 1032, 3: 1016, 4: 999, 5: 937, 6: 1030, 7: 1001, 8: 1025, 9: 981}\n",
      "First 20 Labels: [6, 9, 9, 4, 1, 1, 2, 7, 8, 3, 4, 7, 7, 2, 9, 9, 9, 3, 2, 6]\n",
      "\n",
      "Example of Image 5:\n",
      "Image - Min Value: 0 Max Value: 252\n",
      "Image - Shape: (32, 32, 3)\n",
      "Label - Label Id: 1 Name: automobile\n"
     ]
    },
    {
     "data": {
      "image/png": "[encoded data removed]",
      "text/plain": [
       "<matplotlib.figure.Figure at 0x7f96aa8289e8>"
      ]
     },
     "metadata": {
      "image/png": {
       "height": 250,
       "width": 253
      }
     },
     "output_type": "display_data"
    }
   ],
   "source": [
    "%matplotlib inline\n",
    "%config InlineBackend.figure_format = 'retina'\n",
    "\n",
    "import helper\n",
    "import numpy as np\n",
    "\n",
    "# Explore the dataset\n",
    "batch_id = 1\n",
    "sample_id = 5\n",
    "helper.display_stats(cifar10_dataset_folder_path, batch_id, sample_id)"
   ]
  },
  {
   "cell_type": "markdown",
   "metadata": {},
   "source": [
    "## Implement Preprocess Functions\n",
    "### Normalize\n",
    "In the cell below, implement the `normalize` function to take in image data, `x`, and return it as a normalized Numpy array. The values should be in the range of 0 to 1, inclusive.  The return object should be the same shape as `x`."
   ]
  },
  {
   "cell_type": "code",
   "execution_count": 5,
   "metadata": {},
   "outputs": [
    {
     "name": "stdout",
     "output_type": "stream",
     "text": [
      "Tests Passed\n"
     ]
    }
   ],
   "source": [
    "def normalize(x):\n",
    "    \"\"\"\n",
    "    Normalize a list of sample image data in the range of 0 to 1\n",
    "    : x: List of image data.  The image shape is (32, 32, 3)\n",
    "    : return: Numpy array of normalize data\n",
    "    \"\"\"\n",
    "    # we divide x by 255 to normalize the data\n",
    "    return x / 255\n",
    "\n",
    "\n",
    "\"\"\"\n",
    "DON'T MODIFY ANYTHING IN THIS CELL THAT IS BELOW THIS LINE\n",
    "\"\"\"\n",
    "tests.test_normalize(normalize)"
   ]
  },
  {
   "cell_type": "markdown",
   "metadata": {},
   "source": [
    "### One-hot encode\n",
    "Just like the previous code cell, you'll be implementing a function for preprocessing.  This time, you'll implement the `one_hot_encode` function. The input, `x`, are a list of labels.  Implement the function to return the list of labels as One-Hot encoded Numpy array.  The possible values for labels are 0 to 9. The one-hot encoding function should return the same encoding for each value between each call to `one_hot_encode`.  Make sure to save the map of encodings outside the function.\n",
    "\n",
    "Hint: Don't reinvent the wheel."
   ]
  },
  {
   "cell_type": "code",
   "execution_count": 8,
   "metadata": {},
   "outputs": [
    {
     "name": "stdout",
     "output_type": "stream",
     "text": [
      "Tests Passed\n"
     ]
    }
   ],
   "source": [
    "def one_hot_encode(x):\n",
    "    \"\"\"\n",
    "    One hot encode a list of sample labels. Return a one-hot encoded vector for each label.\n",
    "    : x: List of sample Labels\n",
    "    : return: Numpy array of one-hot encoded labels\n",
    "    \"\"\"\n",
    "    return np.eye(10)[x]\n",
    "\n",
    "\n",
    "\"\"\"\n",
    "DON'T MODIFY ANYTHING IN THIS CELL THAT IS BELOW THIS LINE\n",
    "\"\"\"\n",
    "tests.test_one_hot_encode(one_hot_encode)"
   ]
  },
  {
   "cell_type": "markdown",
   "metadata": {},
   "source": [
    "### Randomize Data\n",
    "As you saw from exploring the data above, the order of the samples are randomized.  It doesn't hurt to randomize it again, but you don't need to for this dataset."
   ]
  },
  {
   "cell_type": "markdown",
   "metadata": {},
   "source": [
    "## Preprocess all the data and save it\n",
    "Running the code cell below will preprocess all the CIFAR-10 data and save it to file. The code below also uses 10% of the training data for validation."
   ]
  },
  {
   "cell_type": "code",
   "execution_count": 9,
   "metadata": {},
   "outputs": [],
   "source": [
    "\"\"\"\n",
    "DON'T MODIFY ANYTHING IN THIS CELL\n",
    "\"\"\"\n",
    "# Preprocess Training, Validation, and Testing Data\n",
    "helper.preprocess_and_save_data(cifar10_dataset_folder_path, normalize, one_hot_encode)"
   ]
  },
  {
   "cell_type": "markdown",
   "metadata": {},
   "source": [
    "# Check Point\n",
    "This is your first checkpoint.  If you ever decide to come back to this notebook or have to restart the notebook, you can start from here.  The preprocessed data has been saved to disk."
   ]
  },
  {
   "cell_type": "code",
   "execution_count": 10,
   "metadata": {
    "collapsed": true
   },
   "outputs": [],
   "source": [
    "\"\"\"\n",
    "DON'T MODIFY ANYTHING IN THIS CELL\n",
    "\"\"\"\n",
    "import pickle\n",
    "import problem_unittests as tests\n",
    "import helper\n",
    "\n",
    "# Load the Preprocessed Validation data\n",
    "valid_features, valid_labels = pickle.load(open('preprocess_validation.p', mode='rb'))"
   ]
  },
  {
   "cell_type": "markdown",
   "metadata": {},
   "source": [
    "## Build the network\n",
    "For the neural network, you'll build each layer into a function.  Most of the code you've seen has been outside of functions. To test your code more thoroughly, we require that you put each layer in a function.  This allows us to give you better feedback and test for simple mistakes using our unittests before you submit your project.\n",
    "\n",
    ">**Note:** If you're finding it hard to dedicate enough time for this course each week, we've provided a small shortcut to this part of the project. In the next couple of problems, you'll have the option to use classes from the [TensorFlow Layers](https://www.tensorflow.org/api_docs/python/tf/layers) or [TensorFlow Layers (contrib)](https://www.tensorflow.org/api_guides/python/contrib.layers) packages to build each layer, except the layers you build in the \"Convolutional and Max Pooling Layer\" section.  TF Layers is similar to Keras's and TFLearn's abstraction to layers, so it's easy to pickup.\n",
    "\n",
    ">However, if you would like to get the most out of this course, try to solve all the problems _without_ using anything from the TF Layers packages. You **can** still use classes from other packages that happen to have the same name as ones you find in TF Layers! For example, instead of using the TF Layers version of the `conv2d` class, [tf.layers.conv2d](https://www.tensorflow.org/api_docs/python/tf/layers/conv2d), you would want to use the TF Neural Network version of `conv2d`, [tf.nn.conv2d](https://www.tensorflow.org/api_docs/python/tf/nn/conv2d). \n",
    "\n",
    "Let's begin!\n",
    "\n",
    "### Input\n",
    "The neural network needs to read the image data, one-hot encoded labels, and dropout keep probability. Implement the following functions\n",
    "* Implement `neural_net_image_input`\n",
    " * Return a [TF Placeholder](https://www.tensorflow.org/api_docs/python/tf/placeholder)\n",
    " * Set the shape using `image_shape` with batch size set to `None`.\n",
    " * Name the TensorFlow placeholder \"x\" using the TensorFlow `name` parameter in the [TF Placeholder](https://www.tensorflow.org/api_docs/python/tf/placeholder).\n",
    "* Implement `neural_net_label_input`\n",
    " * Return a [TF Placeholder](https://www.tensorflow.org/api_docs/python/tf/placeholder)\n",
    " * Set the shape using `n_classes` with batch size set to `None`.\n",
    " * Name the TensorFlow placeholder \"y\" using the TensorFlow `name` parameter in the [TF Placeholder](https://www.tensorflow.org/api_docs/python/tf/placeholder).\n",
    "* Implement `neural_net_keep_prob_input`\n",
    " * Return a [TF Placeholder](https://www.tensorflow.org/api_docs/python/tf/placeholder) for dropout keep probability.\n",
    " * Name the TensorFlow placeholder \"keep_prob\" using the TensorFlow `name` parameter in the [TF Placeholder](https://www.tensorflow.org/api_docs/python/tf/placeholder).\n",
    "\n",
    "These names will be used at the end of the project to load your saved model.\n",
    "\n",
    "Note: `None` for shapes in TensorFlow allow for a dynamic size."
   ]
  },
  {
   "cell_type": "code",
   "execution_count": 14,
   "metadata": {},
   "outputs": [
    {
     "name": "stdout",
     "output_type": "stream",
     "text": [
      "Image Input Tests Passed.\n",
      "Label Input Tests Passed.\n",
      "Keep Prob Tests Passed.\n"
     ]
    }
   ],
   "source": [
    "import tensorflow as tf\n",
    "\n",
    "\n",
    "def neural_net_image_input(image_shape):\n",
    "    \"\"\"\n",
    "    Return a Tensor for a batch of image input\n",
    "    : image_shape: Shape of the images\n",
    "    : return: Tensor for image input.\n",
    "    \"\"\"\n",
    "    image_input = tf.placeholder(tf.float32, [None, image_shape[0], image_shape[1], image_shape[2]], name='x') \n",
    "    return image_input\n",
    "\n",
    "\n",
    "def neural_net_label_input(n_classes):\n",
    "    \"\"\"\n",
    "    Return a Tensor for a batch of label input\n",
    "    : n_classes: Number of classes\n",
    "    : return: Tensor for label input.\n",
    "    \"\"\"\n",
    "    label_input = tf.placeholder(tf.float32, [None, n_classes], name='y')\n",
    "    return label_input\n",
    "\n",
    "\n",
    "def neural_net_keep_prob_input():\n",
    "    \"\"\"\n",
    "    Return a Tensor for keep probability\n",
    "    : return: Tensor for keep probability.\n",
    "    \"\"\"\n",
    "    keep_probability = tf.placeholder(tf.float32, name='keep_prob')\n",
    "    return keep_probability\n",
    "\n",
    "\n",
    "\"\"\"\n",
    "DON'T MODIFY ANYTHING IN THIS CELL THAT IS BELOW THIS LINE\n",
    "\"\"\"\n",
    "tf.reset_default_graph()\n",
    "tests.test_nn_image_inputs(neural_net_image_input)\n",
    "tests.test_nn_label_inputs(neural_net_label_input)\n",
    "tests.test_nn_keep_prob_inputs(neural_net_keep_prob_input)"
   ]
  },
  {
   "cell_type": "markdown",
   "metadata": {},
   "source": [
    "### Convolution and Max Pooling Layer\n",
    "Convolution layers have a lot of success with images. For this code cell, you should implement the function `conv2d_maxpool` to apply convolution then max pooling:\n",
    "* Create the weight and bias using `conv_ksize`, `conv_num_outputs` and the shape of `x_tensor`.\n",
    "* Apply a convolution to `x_tensor` using weight and `conv_strides`.\n",
    " * We recommend you use same padding, but you're welcome to use any padding.\n",
    "* Add bias\n",
    "* Add a nonlinear activation to the convolution.\n",
    "* Apply Max Pooling using `pool_ksize` and `pool_strides`.\n",
    " * We recommend you use same padding, but you're welcome to use any padding.\n",
    "\n",
    "**Note:** You **can't** use [TensorFlow Layers](https://www.tensorflow.org/api_docs/python/tf/layers) or [TensorFlow Layers (contrib)](https://www.tensorflow.org/api_guides/python/contrib.layers) for **this** layer, but you can still use TensorFlow's [Neural Network](https://www.tensorflow.org/api_docs/python/tf/nn) package. You may still use the shortcut option for all the **other** layers."
   ]
  },
  {
   "cell_type": "code",
   "execution_count": 16,
   "metadata": {},
   "outputs": [
    {
     "name": "stdout",
     "output_type": "stream",
     "text": [
      "Tests Passed\n"
     ]
    }
   ],
   "source": [
    "def conv2d_maxpool(x_tensor, conv_num_outputs, conv_ksize, conv_strides, pool_ksize, pool_strides):\n",
    "    \"\"\"\n",
    "    Apply convolution then max pooling to x_tensor\n",
    "    :param x_tensor: TensorFlow Tensor\n",
    "    :param conv_num_outputs: Number of outputs for the convolutional layer\n",
    "    :param conv_ksize: kernal size 2-D Tuple for the convolutional layer\n",
    "    :param conv_strides: Stride 2-D Tuple for convolution\n",
    "    :param pool_ksize: kernal size 2-D Tuple for pool\n",
    "    :param pool_strides: Stride 2-D Tuple for pool\n",
    "    : return: A tensor that represents convolution and max pooling of x_tensor\n",
    "    \"\"\"\n",
    "    # TODO: Implement Function\n",
    "    w = tf.Variable(tf.random_normal([conv_ksize[0], conv_ksize[1], x_tensor.get_shape().as_list()[-1], conv_num_outputs], stddev=0.1))\n",
    "    b = tf.Variable(tf.zeros(conv_num_outputs, dtype=tf.float32))\n",
    "    cl = tf.nn.conv2d(x_tensor, w, strides=[1, conv_strides[0], conv_strides[1], 1], padding='SAME')\n",
    "    cl = tf.nn.bias_add(cl, b)\n",
    "    cl = tf.nn.relu(cl)\n",
    "    cl = tf.nn.max_pool(cl, ksize=[1, pool_ksize[0], pool_ksize[1], 1], strides=[1, pool_strides[0], pool_strides[1], 1], padding='SAME')\n",
    "    return cl\n",
    "\n",
    "\n",
    "\"\"\"\n",
    "DON'T MODIFY ANYTHING IN THIS CELL THAT IS BELOW THIS LINE\n",
    "\"\"\"\n",
    "tests.test_con_pool(conv2d_maxpool)"
   ]
  },
  {
   "cell_type": "markdown",
   "metadata": {},
   "source": [
    "### Flatten Layer\n",
    "Implement the `flatten` function to change the dimension of `x_tensor` from a 4-D tensor to a 2-D tensor.  The output should be the shape (*Batch Size*, *Flattened Image Size*). Shortcut option: you can use classes from the [TensorFlow Layers](https://www.tensorflow.org/api_docs/python/tf/layers) or [TensorFlow Layers (contrib)](https://www.tensorflow.org/api_guides/python/contrib.layers) packages for this layer. For more of a challenge, only use other TensorFlow packages."
   ]
  },
  {
   "cell_type": "code",
   "execution_count": 19,
   "metadata": {},
   "outputs": [
    {
     "name": "stdout",
     "output_type": "stream",
     "text": [
      "Tests Passed\n"
     ]
    }
   ],
   "source": [
    "def flatten(x_tensor):\n",
    "    \"\"\"\n",
    "    Flatten x_tensor to (Batch Size, Flattened Image Size)\n",
    "    : x_tensor: A tensor of size (Batch Size, ...), where ... are the image dimensions.\n",
    "    : return: A tensor of size (Batch Size, Flattened Image Size).\n",
    "    \"\"\"\n",
    "    return tf.reshape(x_tensor, [-1, (x_tensor.shape[1] * x_tensor.shape[2] * x_tensor.shape[3]).value])\n",
    "\n",
    "\n",
    "\"\"\"\n",
    "DON'T MODIFY ANYTHING IN THIS CELL THAT IS BELOW THIS LINE\n",
    "\"\"\"\n",
    "tests.test_flatten(flatten)"
   ]
  },
  {
   "cell_type": "markdown",
   "metadata": {},
   "source": [
    "### Fully-Connected Layer\n",
    "Implement the `fully_conn` function to apply a fully connected layer to `x_tensor` with the shape (*Batch Size*, *num_outputs*). Shortcut option: you can use classes from the [TensorFlow Layers](https://www.tensorflow.org/api_docs/python/tf/layers) or [TensorFlow Layers (contrib)](https://www.tensorflow.org/api_guides/python/contrib.layers) packages for this layer. For more of a challenge, only use other TensorFlow packages."
   ]
  },
  {
   "cell_type": "code",
   "execution_count": 20,
   "metadata": {},
   "outputs": [
    {
     "name": "stdout",
     "output_type": "stream",
     "text": [
      "Tests Passed\n"
     ]
    }
   ],
   "source": [
    "def fully_conn(x_tensor, num_outputs):\n",
    "    \"\"\"\n",
    "    Apply a fully connected layer to x_tensor using weight and bias\n",
    "    : x_tensor: A 2-D tensor where the first dimension is batch size.\n",
    "    : num_outputs: The number of output that the new tensor should be.\n",
    "    : return: A 2-D tensor where the second dimension is num_outputs.\n",
    "    \"\"\"\n",
    "    nf = x_tensor.shape[1].value\n",
    "    w = tf.Variable(tf.random_normal([nf, num_outputs], stddev=0.1))\n",
    "    b = tf.Variable(tf.zeros([num_outputs]))\n",
    "    fc = tf.add(tf.matmul(x_tensor, w), b)\n",
    "    fc = tf.nn.relu(fc)\n",
    "    return fc\n",
    "\n",
    "\n",
    "\"\"\"\n",
    "DON'T MODIFY ANYTHING IN THIS CELL THAT IS BELOW THIS LINE\n",
    "\"\"\"\n",
    "tests.test_fully_conn(fully_conn)"
   ]
  },
  {
   "cell_type": "markdown",
   "metadata": {},
   "source": [
    "### Output Layer\n",
    "Implement the `output` function to apply a fully connected layer to `x_tensor` with the shape (*Batch Size*, *num_outputs*). Shortcut option: you can use classes from the [TensorFlow Layers](https://www.tensorflow.org/api_docs/python/tf/layers) or [TensorFlow Layers (contrib)](https://www.tensorflow.org/api_guides/python/contrib.layers) packages for this layer. For more of a challenge, only use other TensorFlow packages.\n",
    "\n",
    "**Note:** Activation, softmax, or cross entropy should **not** be applied to this."
   ]
  },
  {
   "cell_type": "code",
   "execution_count": 21,
   "metadata": {},
   "outputs": [
    {
     "name": "stdout",
     "output_type": "stream",
     "text": [
      "Tests Passed\n"
     ]
    }
   ],
   "source": [
    "def output(x_tensor, num_outputs):\n",
    "    \"\"\"\n",
    "    Apply a output layer to x_tensor using weight and bias\n",
    "    : x_tensor: A 2-D tensor where the first dimension is batch size.\n",
    "    : num_outputs: The number of output that the new tensor should be.\n",
    "    : return: A 2-D tensor where the second dimension is num_outputs.\n",
    "    \"\"\"\n",
    "    nf = x_tensor.shape[1].value\n",
    "    w = tf.Variable(tf.random_normal([nf, num_outputs], stddev=0.1))\n",
    "    b = tf.Variable(tf.zeros([num_outputs]))\n",
    "    output_layer = tf.add(tf.matmul(x_tensor, w), b)\n",
    "    return output_layer\n",
    "\n",
    "\n",
    "\"\"\"\n",
    "DON'T MODIFY ANYTHING IN THIS CELL THAT IS BELOW THIS LINE\n",
    "\"\"\"\n",
    "tests.test_output(output)"
   ]
  },
  {
   "cell_type": "markdown",
   "metadata": {},
   "source": [
    "### Create Convolutional Model\n",
    "Implement the function `conv_net` to create a convolutional neural network model. The function takes in a batch of images, `x`, and outputs logits.  Use the layers you created above to create this model:\n",
    "\n",
    "* Apply 1, 2, or 3 Convolution and Max Pool layers\n",
    "* Apply a Flatten Layer\n",
    "* Apply 1, 2, or 3 Fully Connected Layers\n",
    "* Apply an Output Layer\n",
    "* Return the output\n",
    "* Apply [TensorFlow's Dropout](https://www.tensorflow.org/api_docs/python/tf/nn/dropout) to one or more layers in the model using `keep_prob`. "
   ]
  },
  {
   "cell_type": "code",
   "execution_count": 22,
   "metadata": {},
   "outputs": [
    {
     "name": "stdout",
     "output_type": "stream",
     "text": [
      "Neural Network Built!\n"
     ]
    }
   ],
   "source": [
    "def conv_net(x, keep_prob):\n",
    "    \"\"\"\n",
    "    Create a convolutional neural network model\n",
    "    : x: Placeholder tensor that holds image data.\n",
    "    : keep_prob: Placeholder tensor that hold dropout keep probability.\n",
    "    : return: Tensor that represents logits\n",
    "    \"\"\"\n",
    "    # TODO: Apply 1, 2, or 3 Convolution and Max Pool layers\n",
    "    #    Play around with different number of outputs, kernel size and stride\n",
    "    # Function Definition from Above:\n",
    "    #    conv2d_maxpool(x_tensor, conv_num_outputs, conv_ksize, conv_strides, pool_ksize, pool_strides)\n",
    "    x = conv2d_maxpool(x, 8, (4, 4), (1, 1), (2, 2), (2, 2))\n",
    "    x = conv2d_maxpool(x, 16, (4, 4), (1, 1), (2, 2), (2, 2))\n",
    "    x = conv2d_maxpool(x, 32, (4, 4), (1, 1), (2, 2), (2, 2))\n",
    "\n",
    "    # TODO: Apply a Flatten Layer\n",
    "    # Function Definition from Above:\n",
    "    #   flatten(x_tensor)\n",
    "    x = flatten(x)\n",
    "\n",
    "    # TODO: Apply 1, 2, or 3 Fully Connected Layers\n",
    "    #    Play around with different number of outputs\n",
    "    # Function Definition from Above:\n",
    "    #   fully_conn(x_tensor, num_outputs)\n",
    "    x = fully_conn(x, 1024)\n",
    "    x = tf.nn.dropout(x, keep_prob=keep_prob)\n",
    "    x = fully_conn(x, 1024)\n",
    "    x = tf.nn.dropout(x, keep_prob=keep_prob)\n",
    "\n",
    "    \n",
    "    # TODO: Apply an Output Layer\n",
    "    #    Set this to the number of classes\n",
    "    # Function Definition from Above:\n",
    "    #   output(x_tensor, num_outputs)\n",
    "    x = output(x, 10)\n",
    "    \n",
    "    # TODO: return output\n",
    "    return x\n",
    "\n",
    "\n",
    "\"\"\"\n",
    "DON'T MODIFY ANYTHING IN THIS CELL THAT IS BELOW THIS LINE\n",
    "\"\"\"\n",
    "\n",
    "##############################\n",
    "## Build the Neural Network ##\n",
    "##############################\n",
    "\n",
    "# Remove previous weights, bias, inputs, etc..\n",
    "tf.reset_default_graph()\n",
    "\n",
    "# Inputs\n",
    "x = neural_net_image_input((32, 32, 3))\n",
    "y = neural_net_label_input(10)\n",
    "keep_prob = neural_net_keep_prob_input()\n",
    "\n",
    "# Model\n",
    "logits = conv_net(x, keep_prob)\n",
    "\n",
    "# Name logits Tensor, so that is can be loaded from disk after training\n",
    "logits = tf.identity(logits, name='logits')\n",
    "\n",
    "# Loss and Optimizer\n",
    "cost = tf.reduce_mean(tf.nn.softmax_cross_entropy_with_logits(logits=logits, labels=y))\n",
    "optimizer = tf.train.AdamOptimizer().minimize(cost)\n",
    "\n",
    "# Accuracy\n",
    "correct_pred = tf.equal(tf.argmax(logits, 1), tf.argmax(y, 1))\n",
    "accuracy = tf.reduce_mean(tf.cast(correct_pred, tf.float32), name='accuracy')\n",
    "\n",
    "tests.test_conv_net(conv_net)"
   ]
  },
  {
   "cell_type": "markdown",
   "metadata": {},
   "source": [
    "## Train the Neural Network\n",
    "### Single Optimization\n",
    "Implement the function `train_neural_network` to do a single optimization.  The optimization should use `optimizer` to optimize in `session` with a `feed_dict` of the following:\n",
    "* `x` for image input\n",
    "* `y` for labels\n",
    "* `keep_prob` for keep probability for dropout\n",
    "\n",
    "This function will be called for each batch, so `tf.global_variables_initializer()` has already been called.\n",
    "\n",
    "Note: Nothing needs to be returned. This function is only optimizing the neural network."
   ]
  },
  {
   "cell_type": "code",
   "execution_count": 23,
   "metadata": {},
   "outputs": [
    {
     "name": "stdout",
     "output_type": "stream",
     "text": [
      "Tests Passed\n"
     ]
    }
   ],
   "source": [
    "def train_neural_network(session, optimizer, keep_probability, feature_batch, label_batch):\n",
    "    \"\"\"\n",
    "    Optimize the session on a batch of images and labels\n",
    "    : session: Current TensorFlow session\n",
    "    : optimizer: TensorFlow optimizer function\n",
    "    : keep_probability: keep probability\n",
    "    : feature_batch: Batch of Numpy image data\n",
    "    : label_batch: Batch of Numpy label data\n",
    "    \"\"\"\n",
    "    session.run(optimizer, feed_dict={x:feature_batch, y:label_batch, keep_prob:keep_probability})\n",
    "\n",
    "\n",
    "\"\"\"\n",
    "DON'T MODIFY ANYTHING IN THIS CELL THAT IS BELOW THIS LINE\n",
    "\"\"\"\n",
    "tests.test_train_nn(train_neural_network)"
   ]
  },
  {
   "cell_type": "markdown",
   "metadata": {},
   "source": [
    "### Show Stats\n",
    "Implement the function `print_stats` to print loss and validation accuracy.  Use the global variables `valid_features` and `valid_labels` to calculate validation accuracy.  Use a keep probability of `1.0` to calculate the loss and validation accuracy."
   ]
  },
  {
   "cell_type": "code",
   "execution_count": 24,
   "metadata": {},
   "outputs": [],
   "source": [
    "def print_stats(session, feature_batch, label_batch, cost, accuracy):\n",
    "    \"\"\"\n",
    "    Print information about loss and validation accuracy\n",
    "    : session: Current TensorFlow session\n",
    "    : feature_batch: Batch of Numpy image data\n",
    "    : label_batch: Batch of Numpy label data\n",
    "    : cost: TensorFlow cost function\n",
    "    : accuracy: TensorFlow accuracy function\n",
    "    \"\"\"\n",
    "    loss = session.run(cost, feed_dict={x:feature_batch, y:label_batch, keep_prob:1.0}) \n",
    "    accuracy = session.run(accuracy,  feed_dict={x:valid_features, y:valid_labels, keep_prob:1.0})\n",
    "    print('loss={0} validation_accuracy={1}'.format(loss, accuracy))"
   ]
  },
  {
   "cell_type": "markdown",
   "metadata": {},
   "source": [
    "### Hyperparameters\n",
    "Tune the following parameters:\n",
    "* Set `epochs` to the number of iterations until the network stops learning or start overfitting\n",
    "* Set `batch_size` to the highest number that your machine has memory for.  Most people set them to common sizes of memory:\n",
    " * 64\n",
    " * 128\n",
    " * 256\n",
    " * ...\n",
    "* Set `keep_probability` to the probability of keeping a node using dropout"
   ]
  },
  {
   "cell_type": "code",
   "execution_count": 37,
   "metadata": {
    "collapsed": true
   },
   "outputs": [],
   "source": [
    "# TODO: Tune Parameters\n",
    "epochs = 26\n",
    "batch_size = 1024\n",
    "keep_probability = 0.6"
   ]
  },
  {
   "cell_type": "markdown",
   "metadata": {},
   "source": [
    "### Train on a Single CIFAR-10 Batch\n",
    "Instead of training the neural network on all the CIFAR-10 batches of data, let's use a single batch. This should save time while you iterate on the model to get a better accuracy.  Once the final validation accuracy is 50% or greater, run the model on all the data in the next section."
   ]
  },
  {
   "cell_type": "code",
   "execution_count": 38,
   "metadata": {},
   "outputs": [
    {
     "name": "stdout",
     "output_type": "stream",
     "text": [
      "Checking the Training on a Single Batch...\n",
      "Epoch  1, CIFAR-10 Batch 1:  loss=2.291412353515625 validation_accuracy=0.20880000293254852\n",
      "Epoch  2, CIFAR-10 Batch 1:  loss=2.1824893951416016 validation_accuracy=0.16439999639987946\n",
      "Epoch  3, CIFAR-10 Batch 1:  loss=2.0706446170806885 validation_accuracy=0.30140000581741333\n",
      "Epoch  4, CIFAR-10 Batch 1:  loss=1.862430214881897 validation_accuracy=0.3571999669075012\n",
      "Epoch  5, CIFAR-10 Batch 1:  loss=1.7074239253997803 validation_accuracy=0.38760000467300415\n",
      "Epoch  6, CIFAR-10 Batch 1:  loss=1.5944771766662598 validation_accuracy=0.4119999408721924\n",
      "Epoch  7, CIFAR-10 Batch 1:  loss=1.5007438659667969 validation_accuracy=0.4349999725818634\n",
      "Epoch  8, CIFAR-10 Batch 1:  loss=1.4397835731506348 validation_accuracy=0.4467999339103699\n",
      "Epoch  9, CIFAR-10 Batch 1:  loss=1.3853724002838135 validation_accuracy=0.4619999825954437\n",
      "Epoch 10, CIFAR-10 Batch 1:  loss=1.3255048990249634 validation_accuracy=0.46619999408721924\n",
      "Epoch 11, CIFAR-10 Batch 1:  loss=1.2738521099090576 validation_accuracy=0.4763999879360199\n",
      "Epoch 12, CIFAR-10 Batch 1:  loss=1.2296626567840576 validation_accuracy=0.4841999411582947\n",
      "Epoch 13, CIFAR-10 Batch 1:  loss=1.174941897392273 validation_accuracy=0.487199991941452\n",
      "Epoch 14, CIFAR-10 Batch 1:  loss=1.1379766464233398 validation_accuracy=0.4925999939441681\n",
      "Epoch 15, CIFAR-10 Batch 1:  loss=1.0841236114501953 validation_accuracy=0.49779993295669556\n",
      "Epoch 16, CIFAR-10 Batch 1:  loss=1.0410287380218506 validation_accuracy=0.5047999024391174\n",
      "Epoch 17, CIFAR-10 Batch 1:  loss=0.9907285571098328 validation_accuracy=0.5041999220848083\n",
      "Epoch 18, CIFAR-10 Batch 1:  loss=0.9447181820869446 validation_accuracy=0.5083999633789062\n",
      "Epoch 19, CIFAR-10 Batch 1:  loss=0.8928147554397583 validation_accuracy=0.5145999789237976\n",
      "Epoch 20, CIFAR-10 Batch 1:  loss=0.8556135892868042 validation_accuracy=0.5151999592781067\n",
      "Epoch 21, CIFAR-10 Batch 1:  loss=0.8121626377105713 validation_accuracy=0.5165999531745911\n",
      "Epoch 22, CIFAR-10 Batch 1:  loss=0.8009434938430786 validation_accuracy=0.507599949836731\n",
      "Epoch 23, CIFAR-10 Batch 1:  loss=0.7445766925811768 validation_accuracy=0.5101999640464783\n",
      "Epoch 24, CIFAR-10 Batch 1:  loss=0.6873007416725159 validation_accuracy=0.5161998867988586\n",
      "Epoch 25, CIFAR-10 Batch 1:  loss=0.636191725730896 validation_accuracy=0.515999972820282\n",
      "Epoch 26, CIFAR-10 Batch 1:  loss=0.5983099341392517 validation_accuracy=0.5205999612808228\n"
     ]
    }
   ],
   "source": [
    "\"\"\"\n",
    "DON'T MODIFY ANYTHING IN THIS CELL\n",
    "\"\"\"\n",
    "print('Checking the Training on a Single Batch...')\n",
    "with tf.Session() as sess:\n",
    "    # Initializing the variables\n",
    "    sess.run(tf.global_variables_initializer())\n",
    "    \n",
    "    # Training cycle\n",
    "    for epoch in range(epochs):\n",
    "        batch_i = 1\n",
    "        for batch_features, batch_labels in helper.load_preprocess_training_batch(batch_i, batch_size):\n",
    "            train_neural_network(sess, optimizer, keep_probability, batch_features, batch_labels)\n",
    "        print('Epoch {:>2}, CIFAR-10 Batch {}:  '.format(epoch + 1, batch_i), end='')\n",
    "        print_stats(sess, batch_features, batch_labels, cost, accuracy)"
   ]
  },
  {
   "cell_type": "markdown",
   "metadata": {},
   "source": [
    "### Fully Train the Model\n",
    "Now that you got a good accuracy with a single CIFAR-10 batch, try it with all five batches."
   ]
  },
  {
   "cell_type": "code",
   "execution_count": 39,
   "metadata": {},
   "outputs": [
    {
     "name": "stdout",
     "output_type": "stream",
     "text": [
      "Training...\n",
      "Epoch  1, CIFAR-10 Batch 1:  loss=2.287759780883789 validation_accuracy=0.16919998824596405\n",
      "Epoch  1, CIFAR-10 Batch 2:  loss=2.2076566219329834 validation_accuracy=0.20099999010562897\n",
      "Epoch  1, CIFAR-10 Batch 3:  loss=2.09177303314209 validation_accuracy=0.29819998145103455\n",
      "Epoch  1, CIFAR-10 Batch 4:  loss=1.9393763542175293 validation_accuracy=0.3343999981880188\n",
      "Epoch  1, CIFAR-10 Batch 5:  loss=1.8296473026275635 validation_accuracy=0.3580000102519989\n",
      "Epoch  2, CIFAR-10 Batch 1:  loss=1.7814209461212158 validation_accuracy=0.3791999816894531\n",
      "Epoch  2, CIFAR-10 Batch 2:  loss=1.6986651420593262 validation_accuracy=0.38819995522499084\n",
      "Epoch  2, CIFAR-10 Batch 3:  loss=1.6106417179107666 validation_accuracy=0.4106000065803528\n",
      "Epoch  2, CIFAR-10 Batch 4:  loss=1.5648934841156006 validation_accuracy=0.4267999827861786\n",
      "Epoch  2, CIFAR-10 Batch 5:  loss=1.5632834434509277 validation_accuracy=0.43299996852874756\n",
      "Epoch  3, CIFAR-10 Batch 1:  loss=1.547320008277893 validation_accuracy=0.43199995160102844\n",
      "Epoch  3, CIFAR-10 Batch 2:  loss=1.5024025440216064 validation_accuracy=0.4455999433994293\n",
      "Epoch  3, CIFAR-10 Batch 3:  loss=1.4093735218048096 validation_accuracy=0.4617999792098999\n",
      "Epoch  3, CIFAR-10 Batch 4:  loss=1.4000275135040283 validation_accuracy=0.47599998116493225\n",
      "Epoch  3, CIFAR-10 Batch 5:  loss=1.3740978240966797 validation_accuracy=0.4753999710083008\n",
      "Epoch  4, CIFAR-10 Batch 1:  loss=1.4115781784057617 validation_accuracy=0.4817999601364136\n",
      "Epoch  4, CIFAR-10 Batch 2:  loss=1.3782721757888794 validation_accuracy=0.4917999505996704\n",
      "Epoch  4, CIFAR-10 Batch 3:  loss=1.2736449241638184 validation_accuracy=0.5013999938964844\n",
      "Epoch  4, CIFAR-10 Batch 4:  loss=1.2774007320404053 validation_accuracy=0.5077999830245972\n",
      "Epoch  4, CIFAR-10 Batch 5:  loss=1.2493934631347656 validation_accuracy=0.5099999308586121\n",
      "Epoch  5, CIFAR-10 Batch 1:  loss=1.2925916910171509 validation_accuracy=0.5125999450683594\n",
      "Epoch  5, CIFAR-10 Batch 2:  loss=1.285836935043335 validation_accuracy=0.5131999254226685\n",
      "Epoch  5, CIFAR-10 Batch 3:  loss=1.1692856550216675 validation_accuracy=0.5301999449729919\n",
      "Epoch  5, CIFAR-10 Batch 4:  loss=1.1917040348052979 validation_accuracy=0.5313999652862549\n",
      "Epoch  5, CIFAR-10 Batch 5:  loss=1.1646002531051636 validation_accuracy=0.5311999320983887\n",
      "Epoch  6, CIFAR-10 Batch 1:  loss=1.2028439044952393 validation_accuracy=0.5341999530792236\n",
      "Epoch  6, CIFAR-10 Batch 2:  loss=1.2299842834472656 validation_accuracy=0.5275999307632446\n",
      "Epoch  6, CIFAR-10 Batch 3:  loss=1.0986837148666382 validation_accuracy=0.5453999638557434\n",
      "Epoch  6, CIFAR-10 Batch 4:  loss=1.1218422651290894 validation_accuracy=0.549799919128418\n",
      "Epoch  6, CIFAR-10 Batch 5:  loss=1.1004235744476318 validation_accuracy=0.5549999475479126\n",
      "Epoch  7, CIFAR-10 Batch 1:  loss=1.1317099332809448 validation_accuracy=0.5561999082565308\n",
      "Epoch  7, CIFAR-10 Batch 2:  loss=1.152594804763794 validation_accuracy=0.5483999848365784\n",
      "Epoch  7, CIFAR-10 Batch 3:  loss=1.049221158027649 validation_accuracy=0.5621999502182007\n",
      "Epoch  7, CIFAR-10 Batch 4:  loss=1.059079647064209 validation_accuracy=0.5639999508857727\n",
      "Epoch  7, CIFAR-10 Batch 5:  loss=1.0489366054534912 validation_accuracy=0.5585999488830566\n",
      "Epoch  8, CIFAR-10 Batch 1:  loss=1.0815693140029907 validation_accuracy=0.5703998804092407\n",
      "Epoch  8, CIFAR-10 Batch 2:  loss=1.1018762588500977 validation_accuracy=0.5607999563217163\n",
      "Epoch  8, CIFAR-10 Batch 3:  loss=1.0033996105194092 validation_accuracy=0.5779998898506165\n",
      "Epoch  8, CIFAR-10 Batch 4:  loss=0.9934309720993042 validation_accuracy=0.5757999420166016\n",
      "Epoch  8, CIFAR-10 Batch 5:  loss=0.9895387887954712 validation_accuracy=0.5767999887466431\n",
      "Epoch  9, CIFAR-10 Batch 1:  loss=1.0292434692382812 validation_accuracy=0.579599916934967\n",
      "Epoch  9, CIFAR-10 Batch 2:  loss=1.0661869049072266 validation_accuracy=0.5811999440193176\n",
      "Epoch  9, CIFAR-10 Batch 3:  loss=0.9951077699661255 validation_accuracy=0.5803999304771423\n",
      "Epoch  9, CIFAR-10 Batch 4:  loss=0.9531331062316895 validation_accuracy=0.5867999196052551\n",
      "Epoch  9, CIFAR-10 Batch 5:  loss=0.9599881172180176 validation_accuracy=0.5783999562263489\n",
      "Epoch 10, CIFAR-10 Batch 1:  loss=0.9782117009162903 validation_accuracy=0.5917999148368835\n",
      "Epoch 10, CIFAR-10 Batch 2:  loss=0.9896167516708374 validation_accuracy=0.590199887752533\n",
      "Epoch 10, CIFAR-10 Batch 3:  loss=0.9306498169898987 validation_accuracy=0.5899999141693115\n",
      "Epoch 10, CIFAR-10 Batch 4:  loss=0.8992423415184021 validation_accuracy=0.596799910068512\n",
      "Epoch 10, CIFAR-10 Batch 5:  loss=0.9131351113319397 validation_accuracy=0.5831998586654663\n",
      "Epoch 11, CIFAR-10 Batch 1:  loss=0.9308959245681763 validation_accuracy=0.6013998985290527\n",
      "Epoch 11, CIFAR-10 Batch 2:  loss=0.949667751789093 validation_accuracy=0.5975999236106873\n",
      "Epoch 11, CIFAR-10 Batch 3:  loss=0.8841489553451538 validation_accuracy=0.5969999432563782\n",
      "Epoch 11, CIFAR-10 Batch 4:  loss=0.869365930557251 validation_accuracy=0.5947999358177185\n",
      "Epoch 11, CIFAR-10 Batch 5:  loss=0.8684737086296082 validation_accuracy=0.5981999635696411\n",
      "Epoch 12, CIFAR-10 Batch 1:  loss=0.910230278968811 validation_accuracy=0.5951998829841614\n",
      "Epoch 12, CIFAR-10 Batch 2:  loss=0.9082514047622681 validation_accuracy=0.5999999046325684\n",
      "Epoch 12, CIFAR-10 Batch 3:  loss=0.8462017774581909 validation_accuracy=0.5997999310493469\n",
      "Epoch 12, CIFAR-10 Batch 4:  loss=0.817388653755188 validation_accuracy=0.6059999465942383\n",
      "Epoch 12, CIFAR-10 Batch 5:  loss=0.811137318611145 validation_accuracy=0.6113999485969543\n",
      "Epoch 13, CIFAR-10 Batch 1:  loss=0.8582516312599182 validation_accuracy=0.6045999526977539\n",
      "Epoch 13, CIFAR-10 Batch 2:  loss=0.8651455044746399 validation_accuracy=0.6095999479293823\n",
      "Epoch 13, CIFAR-10 Batch 3:  loss=0.7781399488449097 validation_accuracy=0.6129999160766602\n",
      "Epoch 13, CIFAR-10 Batch 4:  loss=0.7990981936454773 validation_accuracy=0.608199954032898\n",
      "Epoch 13, CIFAR-10 Batch 5:  loss=0.781765878200531 validation_accuracy=0.610599935054779\n",
      "Epoch 14, CIFAR-10 Batch 1:  loss=0.8370185494422913 validation_accuracy=0.6027998924255371\n",
      "Epoch 14, CIFAR-10 Batch 2:  loss=0.8301759958267212 validation_accuracy=0.611599862575531\n",
      "Epoch 14, CIFAR-10 Batch 3:  loss=0.7667067646980286 validation_accuracy=0.6155998706817627\n",
      "Epoch 14, CIFAR-10 Batch 4:  loss=0.7680951356887817 validation_accuracy=0.6155999302864075\n",
      "Epoch 14, CIFAR-10 Batch 5:  loss=0.7704809904098511 validation_accuracy=0.6137999296188354\n",
      "Epoch 15, CIFAR-10 Batch 1:  loss=0.8017457723617554 validation_accuracy=0.6137998700141907\n",
      "Epoch 15, CIFAR-10 Batch 2:  loss=0.8518241047859192 validation_accuracy=0.5893998742103577\n",
      "Epoch 15, CIFAR-10 Batch 3:  loss=0.8091525435447693 validation_accuracy=0.5993999242782593\n",
      "Epoch 15, CIFAR-10 Batch 4:  loss=0.7232435941696167 validation_accuracy=0.6213998794555664\n",
      "Epoch 15, CIFAR-10 Batch 5:  loss=0.7453571557998657 validation_accuracy=0.613599956035614\n",
      "Epoch 16, CIFAR-10 Batch 1:  loss=0.790611743927002 validation_accuracy=0.6143999099731445\n",
      "Epoch 16, CIFAR-10 Batch 2:  loss=0.7888046503067017 validation_accuracy=0.6089999079704285\n",
      "Epoch 16, CIFAR-10 Batch 3:  loss=0.7183495163917542 validation_accuracy=0.6215999126434326\n",
      "Epoch 16, CIFAR-10 Batch 4:  loss=0.7233877182006836 validation_accuracy=0.6141998767852783\n",
      "Epoch 16, CIFAR-10 Batch 5:  loss=0.692184567451477 validation_accuracy=0.6237999200820923\n",
      "Epoch 17, CIFAR-10 Batch 1:  loss=0.7279466390609741 validation_accuracy=0.6243999004364014\n",
      "Epoch 17, CIFAR-10 Batch 2:  loss=0.7247248888015747 validation_accuracy=0.6213998794555664\n",
      "Epoch 17, CIFAR-10 Batch 3:  loss=0.6825894117355347 validation_accuracy=0.6231999397277832\n",
      "Epoch 17, CIFAR-10 Batch 4:  loss=0.6877036690711975 validation_accuracy=0.6201999187469482\n",
      "Epoch 17, CIFAR-10 Batch 5:  loss=0.6669353246688843 validation_accuracy=0.6303998827934265\n",
      "Epoch 18, CIFAR-10 Batch 1:  loss=0.6952884197235107 validation_accuracy=0.6299998760223389\n",
      "Epoch 18, CIFAR-10 Batch 2:  loss=0.6931953430175781 validation_accuracy=0.6251999139785767\n",
      "Epoch 18, CIFAR-10 Batch 3:  loss=0.6371599435806274 validation_accuracy=0.6301999092102051\n",
      "Epoch 18, CIFAR-10 Batch 4:  loss=0.6652131080627441 validation_accuracy=0.6207998991012573\n",
      "Epoch 18, CIFAR-10 Batch 5:  loss=0.6379837989807129 validation_accuracy=0.6271999478340149\n"
     ]
    },
    {
     "name": "stdout",
     "output_type": "stream",
     "text": [
      "Epoch 19, CIFAR-10 Batch 1:  loss=0.6947118043899536 validation_accuracy=0.6237999200820923\n",
      "Epoch 19, CIFAR-10 Batch 2:  loss=0.681699275970459 validation_accuracy=0.6331998705863953\n",
      "Epoch 19, CIFAR-10 Batch 3:  loss=0.6012378334999084 validation_accuracy=0.6355999708175659\n",
      "Epoch 19, CIFAR-10 Batch 4:  loss=0.611216127872467 validation_accuracy=0.6255998611450195\n",
      "Epoch 19, CIFAR-10 Batch 5:  loss=0.5898275375366211 validation_accuracy=0.6335999369621277\n",
      "Epoch 20, CIFAR-10 Batch 1:  loss=0.6313199996948242 validation_accuracy=0.6377999186515808\n",
      "Epoch 20, CIFAR-10 Batch 2:  loss=0.6360718011856079 validation_accuracy=0.6329998970031738\n",
      "Epoch 20, CIFAR-10 Batch 3:  loss=0.5887042284011841 validation_accuracy=0.6421998739242554\n",
      "Epoch 20, CIFAR-10 Batch 4:  loss=0.5742529034614563 validation_accuracy=0.6317998766899109\n",
      "Epoch 20, CIFAR-10 Batch 5:  loss=0.5690606236457825 validation_accuracy=0.6327999234199524\n",
      "Epoch 21, CIFAR-10 Batch 1:  loss=0.6157069206237793 validation_accuracy=0.6425999402999878\n",
      "Epoch 21, CIFAR-10 Batch 2:  loss=0.6126298308372498 validation_accuracy=0.6333999037742615\n",
      "Epoch 21, CIFAR-10 Batch 3:  loss=0.5430898070335388 validation_accuracy=0.6435999274253845\n",
      "Epoch 21, CIFAR-10 Batch 4:  loss=0.5557941198348999 validation_accuracy=0.6347999572753906\n",
      "Epoch 21, CIFAR-10 Batch 5:  loss=0.5234682559967041 validation_accuracy=0.642599880695343\n",
      "Epoch 22, CIFAR-10 Batch 1:  loss=0.5790146589279175 validation_accuracy=0.6425999402999878\n",
      "Epoch 22, CIFAR-10 Batch 2:  loss=0.5828249454498291 validation_accuracy=0.6397998929023743\n",
      "Epoch 22, CIFAR-10 Batch 3:  loss=0.512952983379364 validation_accuracy=0.6503998637199402\n",
      "Epoch 22, CIFAR-10 Batch 4:  loss=0.5170760750770569 validation_accuracy=0.6375998854637146\n",
      "Epoch 22, CIFAR-10 Batch 5:  loss=0.514462411403656 validation_accuracy=0.6373999118804932\n",
      "Epoch 23, CIFAR-10 Batch 1:  loss=0.565537691116333 validation_accuracy=0.638999879360199\n",
      "Epoch 23, CIFAR-10 Batch 2:  loss=0.5546132326126099 validation_accuracy=0.6463999152183533\n",
      "Epoch 23, CIFAR-10 Batch 3:  loss=0.4967811107635498 validation_accuracy=0.6427998542785645\n",
      "Epoch 23, CIFAR-10 Batch 4:  loss=0.47365960478782654 validation_accuracy=0.6431998610496521\n",
      "Epoch 23, CIFAR-10 Batch 5:  loss=0.4667884111404419 validation_accuracy=0.6469998955726624\n",
      "Epoch 24, CIFAR-10 Batch 1:  loss=0.5471861362457275 validation_accuracy=0.6329998970031738\n",
      "Epoch 24, CIFAR-10 Batch 2:  loss=0.5286617279052734 validation_accuracy=0.6325998902320862\n",
      "Epoch 24, CIFAR-10 Batch 3:  loss=0.46360087394714355 validation_accuracy=0.6469998955726624\n",
      "Epoch 24, CIFAR-10 Batch 4:  loss=0.46069037914276123 validation_accuracy=0.6353999376296997\n",
      "Epoch 24, CIFAR-10 Batch 5:  loss=0.4556899666786194 validation_accuracy=0.6451998949050903\n",
      "Epoch 25, CIFAR-10 Batch 1:  loss=0.5039334893226624 validation_accuracy=0.6329999566078186\n",
      "Epoch 25, CIFAR-10 Batch 2:  loss=0.528748631477356 validation_accuracy=0.6255999207496643\n",
      "Epoch 25, CIFAR-10 Batch 3:  loss=0.47252631187438965 validation_accuracy=0.6413999199867249\n",
      "Epoch 25, CIFAR-10 Batch 4:  loss=0.4420560598373413 validation_accuracy=0.6391999125480652\n",
      "Epoch 25, CIFAR-10 Batch 5:  loss=0.4357413649559021 validation_accuracy=0.6419998407363892\n",
      "Epoch 26, CIFAR-10 Batch 1:  loss=0.4731771945953369 validation_accuracy=0.6391999125480652\n",
      "Epoch 26, CIFAR-10 Batch 2:  loss=0.507900595664978 validation_accuracy=0.6287998557090759\n",
      "Epoch 26, CIFAR-10 Batch 3:  loss=0.45082709193229675 validation_accuracy=0.6353998780250549\n",
      "Epoch 26, CIFAR-10 Batch 4:  loss=0.4468342065811157 validation_accuracy=0.6343998908996582\n",
      "Epoch 26, CIFAR-10 Batch 5:  loss=0.4435890316963196 validation_accuracy=0.6391998529434204\n"
     ]
    }
   ],
   "source": [
    "\"\"\"\n",
    "DON'T MODIFY ANYTHING IN THIS CELL\n",
    "\"\"\"\n",
    "save_model_path = './image_classification'\n",
    "\n",
    "print('Training...')\n",
    "with tf.Session() as sess:\n",
    "    # Initializing the variables\n",
    "    sess.run(tf.global_variables_initializer())\n",
    "    \n",
    "    # Training cycle\n",
    "    for epoch in range(epochs):\n",
    "        # Loop over all batches\n",
    "        n_batches = 5\n",
    "        for batch_i in range(1, n_batches + 1):\n",
    "            for batch_features, batch_labels in helper.load_preprocess_training_batch(batch_i, batch_size):\n",
    "                train_neural_network(sess, optimizer, keep_probability, batch_features, batch_labels)\n",
    "            print('Epoch {:>2}, CIFAR-10 Batch {}:  '.format(epoch + 1, batch_i), end='')\n",
    "            print_stats(sess, batch_features, batch_labels, cost, accuracy)\n",
    "            \n",
    "    # Save Model\n",
    "    saver = tf.train.Saver()\n",
    "    save_path = saver.save(sess, save_model_path)"
   ]
  },
  {
   "cell_type": "markdown",
   "metadata": {},
   "source": [
    "# Checkpoint\n",
    "The model has been saved to disk.\n",
    "## Test Model\n",
    "Test your model against the test dataset.  This will be your final accuracy. You should have an accuracy greater than 50%. If you don't, keep tweaking the model architecture and parameters."
   ]
  },
  {
   "cell_type": "code",
   "execution_count": 40,
   "metadata": {},
   "outputs": [
    {
     "name": "stdout",
     "output_type": "stream",
     "text": [
      "INFO:tensorflow:Restoring parameters from ./image_classification\n",
      "Testing Accuracy: 0.6412767052650452\n",
      "\n"
     ]
    },
    {
     "data": {
      "image/png": "[encoded data removed]",
      "text/plain": [
       "<matplotlib.figure.Figure at 0x7f970c39a3c8>"
      ]
     },
     "metadata": {
      "image/png": {
       "height": 319,
       "width": 355
      }
     },
     "output_type": "display_data"
    }
   ],
   "source": [
    "\"\"\"\n",
    "DON'T MODIFY ANYTHING IN THIS CELL\n",
    "\"\"\"\n",
    "%matplotlib inline\n",
    "%config InlineBackend.figure_format = 'retina'\n",
    "\n",
    "import tensorflow as tf\n",
    "import pickle\n",
    "import helper\n",
    "import random\n",
    "\n",
    "# Set batch size if not already set\n",
    "try:\n",
    "    if batch_size:\n",
    "        pass\n",
    "except NameError:\n",
    "    batch_size = 64\n",
    "\n",
    "save_model_path = './image_classification'\n",
    "n_samples = 4\n",
    "top_n_predictions = 3\n",
    "\n",
    "def test_model():\n",
    "    \"\"\"\n",
    "    Test the saved model against the test dataset\n",
    "    \"\"\"\n",
    "\n",
    "    test_features, test_labels = pickle.load(open('preprocess_test.p', mode='rb'))\n",
    "    loaded_graph = tf.Graph()\n",
    "\n",
    "    with tf.Session(graph=loaded_graph) as sess:\n",
    "        # Load model\n",
    "        loader = tf.train.import_meta_graph(save_model_path + '.meta')\n",
    "        loader.restore(sess, save_model_path)\n",
    "\n",
    "        # Get Tensors from loaded model\n",
    "        loaded_x = loaded_graph.get_tensor_by_name('x:0')\n",
    "        loaded_y = loaded_graph.get_tensor_by_name('y:0')\n",
    "        loaded_keep_prob = loaded_graph.get_tensor_by_name('keep_prob:0')\n",
    "        loaded_logits = loaded_graph.get_tensor_by_name('logits:0')\n",
    "        loaded_acc = loaded_graph.get_tensor_by_name('accuracy:0')\n",
    "        \n",
    "        # Get accuracy in batches for memory limitations\n",
    "        test_batch_acc_total = 0\n",
    "        test_batch_count = 0\n",
    "        \n",
    "        for test_feature_batch, test_label_batch in helper.batch_features_labels(test_features, test_labels, batch_size):\n",
    "            test_batch_acc_total += sess.run(\n",
    "                loaded_acc,\n",
    "                feed_dict={loaded_x: test_feature_batch, loaded_y: test_label_batch, loaded_keep_prob: 1.0})\n",
    "            test_batch_count += 1\n",
    "\n",
    "        print('Testing Accuracy: {}\\n'.format(test_batch_acc_total/test_batch_count))\n",
    "\n",
    "        # Print Random Samples\n",
    "        random_test_features, random_test_labels = tuple(zip(*random.sample(list(zip(test_features, test_labels)), n_samples)))\n",
    "        random_test_predictions = sess.run(\n",
    "            tf.nn.top_k(tf.nn.softmax(loaded_logits), top_n_predictions),\n",
    "            feed_dict={loaded_x: random_test_features, loaded_y: random_test_labels, loaded_keep_prob: 1.0})\n",
    "        helper.display_image_predictions(random_test_features, random_test_labels, random_test_predictions)\n",
    "\n",
    "\n",
    "test_model()"
   ]
  },
  {
   "cell_type": "markdown",
   "metadata": {},
   "source": [
    "## Why 50-80% Accuracy?\n",
    "You might be wondering why you can't get an accuracy any higher. First things first, 50% isn't bad for a simple CNN.  Pure guessing would get you 10% accuracy. However, you might notice people are getting scores [well above 80%](http://rodrigob.github.io/are_we_there_yet/build/classification_datasets_results.html#43494641522d3130).  That's because we haven't taught you all there is to know about neural networks. We still need to cover a few more techniques.\n",
    "## Submitting This Project\n",
    "When submitting this project, make sure to run all the cells before saving the notebook.  Save the notebook file as \"dlnd_image_classification.ipynb\" and save it as a HTML file under \"File\" -> \"Download as\".  Include the \"helper.py\" and \"problem_unittests.py\" files in your submission."
   ]
  }
 ],
 "metadata": {
  "kernelspec": {
   "display_name": "Python 3",
   "language": "python",
   "name": "python3"
  },
  "language_info": {
   "codemirror_mode": {
    "name": "ipython",
    "version": 3
   },
   "file_extension": ".py",
   "mimetype": "text/x-python",
   "name": "python",
   "nbconvert_exporter": "python",
   "pygments_lexer": "ipython3",
   "version": "3.5.3"
  }
 },
 "nbformat": 4,
 "nbformat_minor": 1
}
